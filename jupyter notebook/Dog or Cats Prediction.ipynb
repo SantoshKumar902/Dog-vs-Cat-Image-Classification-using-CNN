{
 "cells": [
  {
   "cell_type": "code",
   "execution_count": 1,
   "id": "c32ae75d-2089-42d2-a2dc-fbf0cb41a8e2",
   "metadata": {},
   "outputs": [
    {
     "name": "stdout",
     "output_type": "stream",
     "text": [
      "Requirement already satisfied: tensorflow in c:\\users\\santo\\appdata\\local\\programs\\python\\python38\\lib\\site-packages (2.13.0)\n",
      "Requirement already satisfied: tensorflow-intel==2.13.0 in c:\\users\\santo\\appdata\\local\\programs\\python\\python38\\lib\\site-packages (from tensorflow) (2.13.0)\n",
      "Requirement already satisfied: absl-py>=1.0.0 in c:\\users\\santo\\appdata\\local\\programs\\python\\python38\\lib\\site-packages (from tensorflow-intel==2.13.0->tensorflow) (2.3.1)\n",
      "Requirement already satisfied: astunparse>=1.6.0 in c:\\users\\santo\\appdata\\local\\programs\\python\\python38\\lib\\site-packages (from tensorflow-intel==2.13.0->tensorflow) (1.6.3)\n",
      "Requirement already satisfied: flatbuffers>=23.1.21 in c:\\users\\santo\\appdata\\local\\programs\\python\\python38\\lib\\site-packages (from tensorflow-intel==2.13.0->tensorflow) (25.2.10)\n",
      "Requirement already satisfied: gast<=0.4.0,>=0.2.1 in c:\\users\\santo\\appdata\\local\\programs\\python\\python38\\lib\\site-packages (from tensorflow-intel==2.13.0->tensorflow) (0.4.0)\n",
      "Requirement already satisfied: google-pasta>=0.1.1 in c:\\users\\santo\\appdata\\local\\programs\\python\\python38\\lib\\site-packages (from tensorflow-intel==2.13.0->tensorflow) (0.2.0)\n",
      "Requirement already satisfied: h5py>=2.9.0 in c:\\users\\santo\\appdata\\local\\programs\\python\\python38\\lib\\site-packages (from tensorflow-intel==2.13.0->tensorflow) (3.11.0)\n",
      "Requirement already satisfied: libclang>=13.0.0 in c:\\users\\santo\\appdata\\local\\programs\\python\\python38\\lib\\site-packages (from tensorflow-intel==2.13.0->tensorflow) (18.1.1)\n",
      "Requirement already satisfied: numpy<=1.24.3,>=1.22 in c:\\users\\santo\\appdata\\local\\programs\\python\\python38\\lib\\site-packages (from tensorflow-intel==2.13.0->tensorflow) (1.24.3)\n",
      "Requirement already satisfied: opt-einsum>=2.3.2 in c:\\users\\santo\\appdata\\local\\programs\\python\\python38\\lib\\site-packages (from tensorflow-intel==2.13.0->tensorflow) (3.4.0)\n",
      "Requirement already satisfied: packaging in c:\\users\\santo\\appdata\\local\\programs\\python\\python38\\lib\\site-packages (from tensorflow-intel==2.13.0->tensorflow) (25.0)\n",
      "Requirement already satisfied: protobuf!=4.21.0,!=4.21.1,!=4.21.2,!=4.21.3,!=4.21.4,!=4.21.5,<5.0.0dev,>=3.20.3 in c:\\users\\santo\\appdata\\local\\programs\\python\\python38\\lib\\site-packages (from tensorflow-intel==2.13.0->tensorflow) (4.25.8)\n",
      "Requirement already satisfied: setuptools in c:\\users\\santo\\appdata\\local\\programs\\python\\python38\\lib\\site-packages (from tensorflow-intel==2.13.0->tensorflow) (41.2.0)\n",
      "Requirement already satisfied: six>=1.12.0 in c:\\users\\santo\\appdata\\local\\programs\\python\\python38\\lib\\site-packages (from tensorflow-intel==2.13.0->tensorflow) (1.17.0)\n",
      "Requirement already satisfied: termcolor>=1.1.0 in c:\\users\\santo\\appdata\\local\\programs\\python\\python38\\lib\\site-packages (from tensorflow-intel==2.13.0->tensorflow) (2.4.0)\n",
      "Requirement already satisfied: typing-extensions<4.6.0,>=3.6.6 in c:\\users\\santo\\appdata\\local\\programs\\python\\python38\\lib\\site-packages (from tensorflow-intel==2.13.0->tensorflow) (4.5.0)\n",
      "Requirement already satisfied: wrapt>=1.11.0 in c:\\users\\santo\\appdata\\local\\programs\\python\\python38\\lib\\site-packages (from tensorflow-intel==2.13.0->tensorflow) (1.17.2)\n",
      "Requirement already satisfied: grpcio<2.0,>=1.24.3 in c:\\users\\santo\\appdata\\local\\programs\\python\\python38\\lib\\site-packages (from tensorflow-intel==2.13.0->tensorflow) (1.70.0)\n",
      "Requirement already satisfied: tensorboard<2.14,>=2.13 in c:\\users\\santo\\appdata\\local\\programs\\python\\python38\\lib\\site-packages (from tensorflow-intel==2.13.0->tensorflow) (2.13.0)\n",
      "Requirement already satisfied: tensorflow-estimator<2.14,>=2.13.0 in c:\\users\\santo\\appdata\\local\\programs\\python\\python38\\lib\\site-packages (from tensorflow-intel==2.13.0->tensorflow) (2.13.0)\n",
      "Requirement already satisfied: keras<2.14,>=2.13.1 in c:\\users\\santo\\appdata\\local\\programs\\python\\python38\\lib\\site-packages (from tensorflow-intel==2.13.0->tensorflow) (2.13.1)\n",
      "Requirement already satisfied: tensorflow-io-gcs-filesystem>=0.23.1 in c:\\users\\santo\\appdata\\local\\programs\\python\\python38\\lib\\site-packages (from tensorflow-intel==2.13.0->tensorflow) (0.31.0)\n",
      "Requirement already satisfied: wheel<1.0,>=0.23.0 in c:\\users\\santo\\appdata\\local\\programs\\python\\python38\\lib\\site-packages (from astunparse>=1.6.0->tensorflow-intel==2.13.0->tensorflow) (0.45.1)\n",
      "Requirement already satisfied: google-auth<3,>=1.6.3 in c:\\users\\santo\\appdata\\local\\programs\\python\\python38\\lib\\site-packages (from tensorboard<2.14,>=2.13->tensorflow-intel==2.13.0->tensorflow) (2.40.3)\n",
      "Requirement already satisfied: google-auth-oauthlib<1.1,>=0.5 in c:\\users\\santo\\appdata\\local\\programs\\python\\python38\\lib\\site-packages (from tensorboard<2.14,>=2.13->tensorflow-intel==2.13.0->tensorflow) (1.0.0)\n",
      "Requirement already satisfied: markdown>=2.6.8 in c:\\users\\santo\\appdata\\local\\programs\\python\\python38\\lib\\site-packages (from tensorboard<2.14,>=2.13->tensorflow-intel==2.13.0->tensorflow) (3.7)\n",
      "Requirement already satisfied: requests<3,>=2.21.0 in c:\\users\\santo\\appdata\\local\\programs\\python\\python38\\lib\\site-packages (from tensorboard<2.14,>=2.13->tensorflow-intel==2.13.0->tensorflow) (2.32.4)\n",
      "Requirement already satisfied: tensorboard-data-server<0.8.0,>=0.7.0 in c:\\users\\santo\\appdata\\local\\programs\\python\\python38\\lib\\site-packages (from tensorboard<2.14,>=2.13->tensorflow-intel==2.13.0->tensorflow) (0.7.2)\n",
      "Requirement already satisfied: werkzeug>=1.0.1 in c:\\users\\santo\\appdata\\local\\programs\\python\\python38\\lib\\site-packages (from tensorboard<2.14,>=2.13->tensorflow-intel==2.13.0->tensorflow) (3.0.6)\n",
      "Requirement already satisfied: cachetools<6.0,>=2.0.0 in c:\\users\\santo\\appdata\\local\\programs\\python\\python38\\lib\\site-packages (from google-auth<3,>=1.6.3->tensorboard<2.14,>=2.13->tensorflow-intel==2.13.0->tensorflow) (5.5.2)\n",
      "Requirement already satisfied: pyasn1-modules>=0.2.1 in c:\\users\\santo\\appdata\\local\\programs\\python\\python38\\lib\\site-packages (from google-auth<3,>=1.6.3->tensorboard<2.14,>=2.13->tensorflow-intel==2.13.0->tensorflow) (0.4.2)\n",
      "Requirement already satisfied: rsa<5,>=3.1.4 in c:\\users\\santo\\appdata\\local\\programs\\python\\python38\\lib\\site-packages (from google-auth<3,>=1.6.3->tensorboard<2.14,>=2.13->tensorflow-intel==2.13.0->tensorflow) (4.9.1)\n",
      "Requirement already satisfied: requests-oauthlib>=0.7.0 in c:\\users\\santo\\appdata\\local\\programs\\python\\python38\\lib\\site-packages (from google-auth-oauthlib<1.1,>=0.5->tensorboard<2.14,>=2.13->tensorflow-intel==2.13.0->tensorflow) (2.0.0)\n",
      "Requirement already satisfied: importlib-metadata>=4.4 in c:\\users\\santo\\appdata\\local\\programs\\python\\python38\\lib\\site-packages (from markdown>=2.6.8->tensorboard<2.14,>=2.13->tensorflow-intel==2.13.0->tensorflow) (8.5.0)\n",
      "Requirement already satisfied: charset_normalizer<4,>=2 in c:\\users\\santo\\appdata\\local\\programs\\python\\python38\\lib\\site-packages (from requests<3,>=2.21.0->tensorboard<2.14,>=2.13->tensorflow-intel==2.13.0->tensorflow) (3.4.2)\n",
      "Requirement already satisfied: idna<4,>=2.5 in c:\\users\\santo\\appdata\\local\\programs\\python\\python38\\lib\\site-packages (from requests<3,>=2.21.0->tensorboard<2.14,>=2.13->tensorflow-intel==2.13.0->tensorflow) (3.10)\n",
      "Requirement already satisfied: urllib3<3,>=1.21.1 in c:\\users\\santo\\appdata\\local\\programs\\python\\python38\\lib\\site-packages (from requests<3,>=2.21.0->tensorboard<2.14,>=2.13->tensorflow-intel==2.13.0->tensorflow) (2.2.3)\n",
      "Requirement already satisfied: certifi>=2017.4.17 in c:\\users\\santo\\appdata\\local\\programs\\python\\python38\\lib\\site-packages (from requests<3,>=2.21.0->tensorboard<2.14,>=2.13->tensorflow-intel==2.13.0->tensorflow) (2025.6.15)\n",
      "Requirement already satisfied: MarkupSafe>=2.1.1 in c:\\users\\santo\\appdata\\local\\programs\\python\\python38\\lib\\site-packages (from werkzeug>=1.0.1->tensorboard<2.14,>=2.13->tensorflow-intel==2.13.0->tensorflow) (2.1.5)\n",
      "Requirement already satisfied: zipp>=3.20 in c:\\users\\santo\\appdata\\local\\programs\\python\\python38\\lib\\site-packages (from importlib-metadata>=4.4->markdown>=2.6.8->tensorboard<2.14,>=2.13->tensorflow-intel==2.13.0->tensorflow) (3.20.2)\n",
      "Requirement already satisfied: pyasn1<0.7.0,>=0.6.1 in c:\\users\\santo\\appdata\\local\\programs\\python\\python38\\lib\\site-packages (from pyasn1-modules>=0.2.1->google-auth<3,>=1.6.3->tensorboard<2.14,>=2.13->tensorflow-intel==2.13.0->tensorflow) (0.6.1)\n",
      "Requirement already satisfied: oauthlib>=3.0.0 in c:\\users\\santo\\appdata\\local\\programs\\python\\python38\\lib\\site-packages (from requests-oauthlib>=0.7.0->google-auth-oauthlib<1.1,>=0.5->tensorboard<2.14,>=2.13->tensorflow-intel==2.13.0->tensorflow) (3.3.1)\n",
      "Note: you may need to restart the kernel to use updated packages.\n"
     ]
    }
   ],
   "source": [
    "pip install tensorflow"
   ]
  },
  {
   "cell_type": "code",
   "execution_count": 2,
   "id": "455f8d4d-943f-4275-b9b4-3f3cadf08097",
   "metadata": {},
   "outputs": [
    {
     "name": "stdout",
     "output_type": "stream",
     "text": [
      "Requirement already satisfied: keras in c:\\users\\santo\\appdata\\local\\programs\\python\\python38\\lib\\site-packages (2.13.1)\n",
      "Note: you may need to restart the kernel to use updated packages.\n"
     ]
    }
   ],
   "source": [
    "pip install keras"
   ]
  },
  {
   "cell_type": "code",
   "execution_count": 3,
   "id": "bc207595-4f4a-4e88-bc57-e0b0504f1b74",
   "metadata": {},
   "outputs": [
    {
     "name": "stdout",
     "output_type": "stream",
     "text": [
      "Defaulting to user installation because normal site-packages is not writeable\n",
      "Requirement already satisfied: pillow in e:\\programdata\\anaconda3\\lib\\site-packages (11.1.0)\n"
     ]
    }
   ],
   "source": [
    "!pip install pillow"
   ]
  },
  {
   "cell_type": "code",
   "execution_count": 4,
   "id": "bb8c68af-0396-4d6e-b752-14ced7c548f8",
   "metadata": {},
   "outputs": [],
   "source": [
    "import tensorflow as tf\n",
    "from keras.preprocessing.image import ImageDataGenerator"
   ]
  },
  {
   "cell_type": "code",
   "execution_count": 5,
   "id": "d71e0991-f2b3-4a94-a8b3-2ed5598bd593",
   "metadata": {},
   "outputs": [
    {
     "data": {
      "text/plain": [
       "'2.13.0'"
      ]
     },
     "execution_count": 5,
     "metadata": {},
     "output_type": "execute_result"
    }
   ],
   "source": [
    "tf.__version__"
   ]
  },
  {
   "cell_type": "markdown",
   "id": "06af2cf9-56b3-4816-af12-f65a6455bd12",
   "metadata": {},
   "source": [
    "# Data Preprocessing"
   ]
  },
  {
   "cell_type": "markdown",
   "id": "b5e800d4-fb58-40bd-8040-8bab7063e722",
   "metadata": {},
   "source": [
    "- ## Preprocessing the Training set"
   ]
  },
  {
   "cell_type": "code",
   "execution_count": 6,
   "id": "10eaa3fc-d677-4b2d-b50a-4a67553f696f",
   "metadata": {},
   "outputs": [
    {
     "name": "stdout",
     "output_type": "stream",
     "text": [
      "Found 8000 images belonging to 2 classes.\n"
     ]
    }
   ],
   "source": [
    "train_datagen = ImageDataGenerator(rescale = 1./255,\n",
    "                                  shear_range = 0.2,\n",
    "                                  zoom_range = 0.2,\n",
    "                                  horizontal_flip = True)\n",
    "training_set = train_datagen.flow_from_directory('E:\\\\ML_Projects_file\\\\Projects\\datasets\\\\dogs_cats\\\\training_set',\n",
    "                                                target_size = (64, 64),\n",
    "                                                 batch_size = 32,\n",
    "                                                 class_mode = 'binary')"
   ]
  },
  {
   "cell_type": "code",
   "execution_count": 7,
   "id": "25bd709b-8541-4f1e-98a1-934c79e98037",
   "metadata": {},
   "outputs": [
    {
     "name": "stdout",
     "output_type": "stream",
     "text": [
      "Found 2000 images belonging to 2 classes.\n"
     ]
    }
   ],
   "source": [
    "test_datagen = ImageDataGenerator(rescale = 1./255)\n",
    "test_set = test_datagen.flow_from_directory('E:\\\\ML_Projects_file\\\\Projects\\\\datasets\\\\dogs_cats\\\\test_set',\n",
    "                                           target_size = (64, 64),\n",
    "                                                 batch_size = 32,\n",
    "                                                 class_mode = 'binary')"
   ]
  },
  {
   "cell_type": "markdown",
   "id": "f7819aed-3c55-49cd-a4a5-0c03057ae409",
   "metadata": {},
   "source": [
    "# Building the CNN"
   ]
  },
  {
   "cell_type": "markdown",
   "id": "394bd730-01a8-4429-99e0-6539e46973a6",
   "metadata": {},
   "source": [
    "- ## initialising the CNN"
   ]
  },
  {
   "cell_type": "code",
   "execution_count": 8,
   "id": "8c20506e-f7dd-4427-978a-99abc1c8169a",
   "metadata": {},
   "outputs": [],
   "source": [
    "cnn = tf.keras.models.Sequential()"
   ]
  },
  {
   "cell_type": "markdown",
   "id": "9b425581-910a-4b0f-b90c-f6efbd748df4",
   "metadata": {},
   "source": [
    "- ## 1 - Convolution"
   ]
  },
  {
   "cell_type": "code",
   "execution_count": 9,
   "id": "d8c522b5-d360-45d1-b104-b8b48afa68ba",
   "metadata": {},
   "outputs": [],
   "source": [
    "cnn.add(tf.keras.layers.Conv2D(filters = 32, kernel_size = 3, activation = 'relu', input_shape = [64, 64, 3]))"
   ]
  },
  {
   "cell_type": "markdown",
   "id": "9137cda8-0309-462a-8987-12556c7eb2db",
   "metadata": {},
   "source": [
    "- ## 2 - Pooling"
   ]
  },
  {
   "cell_type": "code",
   "execution_count": 10,
   "id": "64bcf0d2-3e6f-4782-8e1c-b7461399904c",
   "metadata": {},
   "outputs": [],
   "source": [
    "cnn.add(tf.keras.layers.MaxPool2D(pool_size = 2, strides = 2))"
   ]
  },
  {
   "cell_type": "markdown",
   "id": "223374e4-fecc-4c9c-91e8-a343e5991a4b",
   "metadata": {},
   "source": [
    "- ## Adding a second convolutional layer"
   ]
  },
  {
   "cell_type": "code",
   "execution_count": 11,
   "id": "82b2e033-e148-4d90-8476-d880d4507939",
   "metadata": {},
   "outputs": [],
   "source": [
    "cnn.add(tf.keras.layers.Conv2D(filters = 32, kernel_size = 3, activation = 'relu'))\n",
    "cnn.add(tf.keras.layers.MaxPool2D(pool_size = 2, strides = 2))"
   ]
  },
  {
   "cell_type": "markdown",
   "id": "353db375-ed3e-4a37-a3ed-c39e98276bff",
   "metadata": {},
   "source": [
    "- ## 3 - Flattening"
   ]
  },
  {
   "cell_type": "code",
   "execution_count": 12,
   "id": "ef20eccd-cd69-4f6d-894c-2029394dff45",
   "metadata": {},
   "outputs": [],
   "source": [
    "cnn.add(tf.keras.layers.Flatten())"
   ]
  },
  {
   "cell_type": "markdown",
   "id": "75c2b6b2-e5cf-4534-af98-5ba73e0083e4",
   "metadata": {},
   "source": [
    "- ## 4 - Full Connecton"
   ]
  },
  {
   "cell_type": "code",
   "execution_count": 13,
   "id": "10b0045c-0a93-4636-8157-5fdd010e8d4f",
   "metadata": {},
   "outputs": [],
   "source": [
    "cnn.add(tf.keras.layers.Dense(units = 128, activation = 'relu'))"
   ]
  },
  {
   "cell_type": "markdown",
   "id": "bdabbe3a-9090-4d29-8898-121ba26f188c",
   "metadata": {},
   "source": [
    "- ## 5 - Output Layer"
   ]
  },
  {
   "cell_type": "code",
   "execution_count": 14,
   "id": "0d047783-ea43-4840-9f88-862f320eb292",
   "metadata": {},
   "outputs": [],
   "source": [
    "cnn.add(tf.keras.layers.Dense(units = 1, activation = 'sigmoid'))"
   ]
  },
  {
   "cell_type": "markdown",
   "id": "9167f592-b1d8-4a63-917d-e4fb346acebe",
   "metadata": {},
   "source": [
    "# Training the CNN"
   ]
  },
  {
   "cell_type": "markdown",
   "id": "a17bc9cf-7ad3-4209-959a-707f97e0341c",
   "metadata": {},
   "source": [
    "- ## Compiling the CNN"
   ]
  },
  {
   "cell_type": "code",
   "execution_count": 15,
   "id": "1094c8ba-ff91-4ddb-ac97-d2e9d59271df",
   "metadata": {},
   "outputs": [],
   "source": [
    "cnn.compile(optimizer = 'adam', loss = 'binary_crossentropy', metrics = ['accuracy'])"
   ]
  },
  {
   "cell_type": "markdown",
   "id": "448f5e19-86e0-42f7-8fa2-f27c2fde6689",
   "metadata": {},
   "source": [
    "- ## Training the CNN on the training set and evaluating it on the test set"
   ]
  },
  {
   "cell_type": "code",
   "execution_count": 16,
   "id": "457202db-2365-41ff-be23-48976349bade",
   "metadata": {},
   "outputs": [
    {
     "name": "stdout",
     "output_type": "stream",
     "text": [
      "Epoch 1/20\n",
      "250/250 [==============================] - 181s 714ms/step - loss: 0.6874 - accuracy: 0.5602 - val_loss: 0.6471 - val_accuracy: 0.6305\n",
      "Epoch 2/20\n",
      "250/250 [==============================] - 68s 271ms/step - loss: 0.6275 - accuracy: 0.6604 - val_loss: 0.6026 - val_accuracy: 0.6825\n",
      "Epoch 3/20\n",
      "250/250 [==============================] - 68s 272ms/step - loss: 0.5851 - accuracy: 0.6905 - val_loss: 0.5365 - val_accuracy: 0.7440\n",
      "Epoch 4/20\n",
      "250/250 [==============================] - 142s 569ms/step - loss: 0.5387 - accuracy: 0.7278 - val_loss: 0.5696 - val_accuracy: 0.7150\n",
      "Epoch 5/20\n",
      "250/250 [==============================] - 92s 368ms/step - loss: 0.5096 - accuracy: 0.7506 - val_loss: 0.5078 - val_accuracy: 0.7690\n",
      "Epoch 6/20\n",
      "250/250 [==============================] - 68s 270ms/step - loss: 0.4895 - accuracy: 0.7634 - val_loss: 0.5257 - val_accuracy: 0.7640\n",
      "Epoch 7/20\n",
      "250/250 [==============================] - 89s 357ms/step - loss: 0.4624 - accuracy: 0.7820 - val_loss: 0.4862 - val_accuracy: 0.7735\n",
      "Epoch 8/20\n",
      "250/250 [==============================] - 72s 289ms/step - loss: 0.4422 - accuracy: 0.7958 - val_loss: 0.4615 - val_accuracy: 0.7905\n",
      "Epoch 9/20\n",
      "250/250 [==============================] - 78s 313ms/step - loss: 0.4306 - accuracy: 0.7968 - val_loss: 0.4536 - val_accuracy: 0.8025\n",
      "Epoch 10/20\n",
      "250/250 [==============================] - 56s 224ms/step - loss: 0.4182 - accuracy: 0.8049 - val_loss: 0.4636 - val_accuracy: 0.7970\n",
      "Epoch 11/20\n",
      "250/250 [==============================] - 55s 218ms/step - loss: 0.4041 - accuracy: 0.8119 - val_loss: 0.4613 - val_accuracy: 0.7940\n",
      "Epoch 12/20\n",
      "250/250 [==============================] - 59s 237ms/step - loss: 0.3913 - accuracy: 0.8230 - val_loss: 0.4684 - val_accuracy: 0.8065\n",
      "Epoch 13/20\n",
      "250/250 [==============================] - 85s 341ms/step - loss: 0.3756 - accuracy: 0.8288 - val_loss: 0.4465 - val_accuracy: 0.8035\n",
      "Epoch 14/20\n",
      "250/250 [==============================] - 58s 230ms/step - loss: 0.3580 - accuracy: 0.8394 - val_loss: 0.4565 - val_accuracy: 0.8000\n",
      "Epoch 15/20\n",
      "250/250 [==============================] - 59s 236ms/step - loss: 0.3693 - accuracy: 0.8359 - val_loss: 0.4938 - val_accuracy: 0.7950\n",
      "Epoch 16/20\n",
      "250/250 [==============================] - 70s 279ms/step - loss: 0.3330 - accuracy: 0.8543 - val_loss: 0.4797 - val_accuracy: 0.7955\n",
      "Epoch 17/20\n",
      "250/250 [==============================] - 67s 269ms/step - loss: 0.3235 - accuracy: 0.8590 - val_loss: 0.5421 - val_accuracy: 0.7840\n",
      "Epoch 18/20\n",
      "250/250 [==============================] - 67s 267ms/step - loss: 0.3092 - accuracy: 0.8570 - val_loss: 0.5151 - val_accuracy: 0.7930\n",
      "Epoch 19/20\n",
      "250/250 [==============================] - 67s 269ms/step - loss: 0.2934 - accuracy: 0.8758 - val_loss: 0.4772 - val_accuracy: 0.8090\n",
      "Epoch 20/20\n",
      "250/250 [==============================] - 63s 252ms/step - loss: 0.2772 - accuracy: 0.8826 - val_loss: 0.5727 - val_accuracy: 0.7760\n"
     ]
    },
    {
     "data": {
      "text/plain": [
       "<keras.src.callbacks.History at 0x12abdedfbe0>"
      ]
     },
     "execution_count": 16,
     "metadata": {},
     "output_type": "execute_result"
    }
   ],
   "source": [
    "cnn.fit(training_set, validation_data = test_set, epochs = 20)"
   ]
  },
  {
   "cell_type": "markdown",
   "id": "d1efe5bd-e5f9-4db2-82c6-920281afd6db",
   "metadata": {},
   "source": [
    "# Making a Single Prediction "
   ]
  },
  {
   "cell_type": "code",
   "execution_count": 21,
   "id": "14e334cf-928f-48fc-b90d-939dbe1a9f7e",
   "metadata": {},
   "outputs": [
    {
     "name": "stdout",
     "output_type": "stream",
     "text": [
      "1/1 [==============================] - 0s 42ms/step\n"
     ]
    }
   ],
   "source": [
    "import numpy as np\n",
    "from keras.preprocessing import image\n",
    "test_image = image.load_img('E:\\ML_Projects_file\\Projects\\datasets\\dogs_cats\\single_prediction\\cat_dog4.jpg', target_size = (64, 64))\n",
    "test_image = image.img_to_array(test_image)\n",
    "test_image = np.expand_dims(test_image, axis = 0)\n",
    "result = cnn.predict(test_image)\n",
    "training_set.class_indices\n",
    "if result[0][0] == 1:\n",
    "    prediction = 'dog'\n",
    "else:\n",
    "    prediction = 'cat'"
   ]
  },
  {
   "cell_type": "code",
   "execution_count": 22,
   "id": "489c3d45-3423-4174-a186-042f843f49d4",
   "metadata": {},
   "outputs": [
    {
     "name": "stdout",
     "output_type": "stream",
     "text": [
      "dog\n"
     ]
    }
   ],
   "source": [
    "print(prediction)"
   ]
  },
  {
   "cell_type": "code",
   "execution_count": 23,
   "id": "5a9951ac-1fe5-4552-a146-92eddc582508",
   "metadata": {},
   "outputs": [
    {
     "name": "stdout",
     "output_type": "stream",
     "text": [
      "[[1.]]\n"
     ]
    }
   ],
   "source": [
    "print(result)"
   ]
  }
 ],
 "metadata": {
  "kernelspec": {
   "display_name": "Python (ML_kernel)",
   "language": "python",
   "name": "ml_kernel"
  },
  "language_info": {
   "codemirror_mode": {
    "name": "ipython",
    "version": 3
   },
   "file_extension": ".py",
   "mimetype": "text/x-python",
   "name": "python",
   "nbconvert_exporter": "python",
   "pygments_lexer": "ipython3",
   "version": "3.8.0"
  }
 },
 "nbformat": 4,
 "nbformat_minor": 5
}
